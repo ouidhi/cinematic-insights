{
 "cells": [
  {
   "cell_type": "markdown",
   "metadata": {},
   "source": [
    "## Web Scraping with BeautifulSoup, Requests, and Pandas"
   ]
  },
  {
   "cell_type": "code",
   "execution_count": 48,
   "metadata": {},
   "outputs": [],
   "source": [
    "from bs4 import BeautifulSoup\n",
    "import requests\n",
    "import pandas as pd"
   ]
  },
  {
   "cell_type": "markdown",
   "metadata": {},
   "source": [
    "### Web Scraping: List of Film Production Companies from Wikipedia\n"
   ]
  },
  {
   "cell_type": "code",
   "execution_count": 49,
   "metadata": {},
   "outputs": [],
   "source": [
    "url = 'https://en.wikipedia.org/wiki/List_of_film_production_companies'\n",
    "page= requests.get(url)\n",
    "soup = BeautifulSoup(page.text)"
   ]
  },
  {
   "cell_type": "markdown",
   "metadata": {},
   "source": [
    "### Scraping and Extracting Table Headers from HTML using BeautifulSoup"
   ]
  },
  {
   "cell_type": "code",
   "execution_count": 50,
   "metadata": {},
   "outputs": [],
   "source": [
    "table = soup.find_all('table')[0]\n",
    "\n",
    "# scraping the table headers\n",
    "titles = table.find_all('th')\n",
    "\n",
    "# making a list of the table headers by removing the <th> tags and '\\n'\n",
    "titles_table = [title.text.strip() for title in titles]"
   ]
  },
  {
   "cell_type": "markdown",
   "metadata": {},
   "source": [
    "### Creating a DataFrame with Specified Column Titles in Pandas"
   ]
  },
  {
   "cell_type": "code",
   "execution_count": 51,
   "metadata": {},
   "outputs": [],
   "source": [
    "df = pd.DataFrame(columns = titles_table)\n"
   ]
  },
  {
   "cell_type": "markdown",
   "metadata": {},
   "source": [
    "### Python Code to Extract and Normalize Table Data from HTML Using BeautifulSoup\n",
    "\n",
    "The code iterates over the rows of an HTML table, processes the table cells, strips any excess whitespace from the cell data, and appends rows to a DataFrame. It includes a check to handle mismatched column lengths, padding rows with missing data to avoid errors.\n"
   ]
  },
  {
   "cell_type": "code",
   "execution_count": 52,
   "metadata": {},
   "outputs": [
    {
     "name": "stdout",
     "output_type": "stream",
     "text": [
      "253 5 4\n"
     ]
    }
   ],
   "source": [
    "column_data= table.find_all('tr')\n",
    "\n",
    "for row in column_data[1:]:\n",
    "    row_data = row.find_all('td')\n",
    "\n",
    "    final_row_data = [data.text.strip() for data in row_data]\n",
    "\n",
    "    # if this index line has mismatched columns: \n",
    "    if len(final_row_data) < len(df.columns):\n",
    "        print(length, len(df.columns), len(final_row_data))\n",
    "\n",
    "    # to prevent any mismatch errors\n",
    "    while len(final_row_data) < len(df.columns):\n",
    "        final_row_data.append(None)  # Or any default value\n",
    "\n",
    "    length = len(df)\n",
    "    df.loc[length]= final_row_data"
   ]
  },
  {
   "cell_type": "markdown",
   "metadata": {},
   "source": [
    "### Dataframe \n",
    "\n",
    "This table provides a list of film production companies, detailing key information such as the company name, country of origin, headquarters location, year of establishment, and any relevant notes. \n",
    "\n",
    "**Company**: The name of the film production company. <br>\n",
    "**Country**: The country where the company is based. <br>\n",
    "**Headquarters**: The specific city or region where the company is headquartered. <br>\n",
    "**Est.**: The year the company was founded. <br>\n",
    "**Notes**: Any additional relevant information about the company (e.g., a focus on specific genres like Christian films).\n"
   ]
  },
  {
   "cell_type": "code",
   "execution_count": 53,
   "metadata": {},
   "outputs": [
    {
     "data": {
      "text/html": [
       "<div>\n",
       "<style scoped>\n",
       "    .dataframe tbody tr th:only-of-type {\n",
       "        vertical-align: middle;\n",
       "    }\n",
       "\n",
       "    .dataframe tbody tr th {\n",
       "        vertical-align: top;\n",
       "    }\n",
       "\n",
       "    .dataframe thead th {\n",
       "        text-align: right;\n",
       "    }\n",
       "</style>\n",
       "<table border=\"1\" class=\"dataframe\">\n",
       "  <thead>\n",
       "    <tr style=\"text-align: right;\">\n",
       "      <th></th>\n",
       "      <th>Company</th>\n",
       "      <th>Country</th>\n",
       "      <th>Headquarters</th>\n",
       "      <th>Est.</th>\n",
       "      <th>Notes</th>\n",
       "    </tr>\n",
       "  </thead>\n",
       "  <tbody>\n",
       "    <tr>\n",
       "      <th>0</th>\n",
       "      <td>Aleph Producciones</td>\n",
       "      <td>Argentina</td>\n",
       "      <td>Buenos Aires</td>\n",
       "      <td>1990</td>\n",
       "      <td></td>\n",
       "    </tr>\n",
       "    <tr>\n",
       "      <th>1</th>\n",
       "      <td>Argentina Sono Film</td>\n",
       "      <td>Argentina</td>\n",
       "      <td>Buenos Aires</td>\n",
       "      <td>1933</td>\n",
       "      <td></td>\n",
       "    </tr>\n",
       "    <tr>\n",
       "      <th>2</th>\n",
       "      <td>BD Cine</td>\n",
       "      <td>Argentina</td>\n",
       "      <td>Buenos Aires</td>\n",
       "      <td>1995</td>\n",
       "      <td></td>\n",
       "    </tr>\n",
       "    <tr>\n",
       "      <th>3</th>\n",
       "      <td>Guacamole Films</td>\n",
       "      <td>Argentina</td>\n",
       "      <td>Buenos Aires</td>\n",
       "      <td>2002</td>\n",
       "      <td></td>\n",
       "    </tr>\n",
       "    <tr>\n",
       "      <th>4</th>\n",
       "      <td>Patagonik Film Group</td>\n",
       "      <td>Argentina</td>\n",
       "      <td>Buenos Aires</td>\n",
       "      <td>1996</td>\n",
       "      <td></td>\n",
       "    </tr>\n",
       "  </tbody>\n",
       "</table>\n",
       "</div>"
      ],
      "text/plain": [
       "                Company    Country  Headquarters  Est. Notes\n",
       "0    Aleph Producciones  Argentina  Buenos Aires  1990      \n",
       "1   Argentina Sono Film  Argentina  Buenos Aires  1933      \n",
       "2               BD Cine  Argentina  Buenos Aires  1995      \n",
       "3       Guacamole Films  Argentina  Buenos Aires  2002      \n",
       "4  Patagonik Film Group  Argentina  Buenos Aires  1996      "
      ]
     },
     "execution_count": 53,
     "metadata": {},
     "output_type": "execute_result"
    }
   ],
   "source": [
    "df.head()"
   ]
  },
  {
   "cell_type": "markdown",
   "metadata": {},
   "source": [
    "### Saving the data into a csv file "
   ]
  },
  {
   "cell_type": "code",
   "execution_count": 54,
   "metadata": {},
   "outputs": [],
   "source": [
    "df.to_csv('Productions.csv', index= False)"
   ]
  }
 ],
 "metadata": {
  "kernelspec": {
   "display_name": "Python 3 (ipykernel)",
   "language": "python",
   "name": "python3"
  },
  "language_info": {
   "codemirror_mode": {
    "name": "ipython",
    "version": 3
   },
   "file_extension": ".py",
   "mimetype": "text/x-python",
   "name": "python",
   "nbconvert_exporter": "python",
   "pygments_lexer": "ipython3",
   "version": "3.12.0"
  }
 },
 "nbformat": 4,
 "nbformat_minor": 2
}
